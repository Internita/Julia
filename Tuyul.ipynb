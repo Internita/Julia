{
  "cells": [
    {
      "cell_type": "code",
      "source": [
        "from IPython.core.display import HTML\n",
        "HTML(\"\"\"\n",
        "<style>\n",
        ".output_png {\n",
        "    display: table-cell;\n",
        "    text-align: center;\n",
        "    vertical-align: middle;\n",
        "}\n",
        "</style>\n",
        "\"\"\")"
      ],
      "metadata": {
        "id": "kv5YrJK5TxhK",
        "outputId": "a8928265-c577-410b-b34b-df4f9b69b2d1",
        "colab": {
          "base_uri": "https://localhost:8080/",
          "height": 17
        }
      },
      "execution_count": null,
      "outputs": [
        {
          "output_type": "execute_result",
          "data": {
            "text/plain": [
              "<IPython.core.display.HTML object>"
            ],
            "text/html": [
              "\n",
              "<style>\n",
              ".output_png {\n",
              "    display: table-cell;\n",
              "    text-align: center;\n",
              "    vertical-align: middle;\n",
              "}\n",
              "</style>\n"
            ]
          },
          "metadata": {},
          "execution_count": 8
        }
      ]
    },
    {
      "cell_type": "code",
      "execution_count": 1,
      "metadata": {
        "id": "ZAa1Z_o1NCDF"
      },
      "outputs": [],
      "source": [
        "import requests\n",
        "\n",
        "mrturl = \"https://jakartamrt.co.id/id/val/stasiuns\"\n",
        "\n",
        "opener =  requests.get(mrturl)"
      ]
    },
    {
      "cell_type": "code",
      "execution_count": 2,
      "metadata": {
        "id": "mTShNEtkNNf4",
        "outputId": "62c6a1cb-2e20-4dd7-b0b9-2f5865fdbf39",
        "colab": {
          "base_uri": "https://localhost:8080/"
        }
      },
      "outputs": [
        {
          "output_type": "execute_result",
          "data": {
            "text/plain": [
              "13"
            ]
          },
          "metadata": {},
          "execution_count": 2
        }
      ],
      "source": [
        "data = opener.json()\n",
        "\n",
        "total = len(data); total"
      ]
    },
    {
      "cell_type": "markdown",
      "source": [
        "🚀 ```Total Statiun : 13```"
      ],
      "metadata": {
        "id": "OoWcq4zYIhWL"
      }
    },
    {
      "cell_type": "code",
      "execution_count": 3,
      "metadata": {
        "id": "agxX4oa1-HOU"
      },
      "outputs": [],
      "source": [
        "import warnings\n",
        "\n",
        "import matplotlib.pyplot as plt\n",
        "\n",
        "warnings.filterwarnings(\"ignore\")\n",
        "\n",
        "plt.style.use(\"seaborn-whitegrid\")"
      ]
    },
    {
      "cell_type": "code",
      "execution_count": null,
      "metadata": {
        "id": "OfAM5CD5-HOV",
        "outputId": "82d16e62-5ace-45fe-d253-e582f99f0c0d",
        "colab": {
          "base_uri": "https://localhost:8080/"
        }
      },
      "outputs": [
        {
          "output_type": "execute_result",
          "data": {
            "text/plain": [
              "dict_keys(['nid', 'title', 'urutan', 'isbig', 'path', 'catatan', 'antarmodas', 'peta_lokalitas', 'jadwal_lb_biasa', 'jadwal_lb_libur', 'jadwal_hi_biasa', 'jadwal_hi_libur', 'banner', 'retails', 'estimasi', 'fasilitas'])"
            ]
          },
          "metadata": {},
          "execution_count": 4
        }
      ],
      "source": [
        "sample = data[6]\n",
        "\n",
        "sample.keys()"
      ]
    },
    {
      "cell_type": "code",
      "execution_count": null,
      "metadata": {
        "id": "_64Ikv0x-HOX",
        "outputId": "2c3a3587-decf-46ce-8ea7-29b37302e577",
        "colab": {
          "base_uri": "https://localhost:8080/",
          "height": 35
        }
      },
      "outputs": [
        {
          "output_type": "execute_result",
          "data": {
            "text/plain": [
              "'Stasiun ASEAN'"
            ],
            "application/vnd.google.colaboratory.intrinsic+json": {
              "type": "string"
            }
          },
          "metadata": {},
          "execution_count": 5
        }
      ],
      "source": [
        "title = sample[\"title\"]\n",
        "\n",
        "title"
      ]
    },
    {
      "cell_type": "code",
      "execution_count": null,
      "metadata": {
        "id": "xGTYGSjw-HOY",
        "outputId": "425be039-f611-4d10-dbad-d6402f4d243a",
        "colab": {
          "base_uri": "https://localhost:8080/",
          "height": 35
        }
      },
      "outputs": [
        {
          "output_type": "execute_result",
          "data": {
            "text/plain": [
              "'7'"
            ],
            "application/vnd.google.colaboratory.intrinsic+json": {
              "type": "string"
            }
          },
          "metadata": {},
          "execution_count": 6
        }
      ],
      "source": [
        "urutan = sample[\"urutan\"]\n",
        "\n",
        "urutan"
      ]
    },
    {
      "cell_type": "code",
      "execution_count": null,
      "metadata": {
        "id": "QP0dThWi-HOZ",
        "outputId": "c6610d76-b178-48aa-96e4-edf676d83c2d",
        "colab": {
          "base_uri": "https://localhost:8080/",
          "height": 35
        }
      },
      "outputs": [
        {
          "output_type": "execute_result",
          "data": {
            "text/plain": [
              "'/id/stasiun/stasiun-asean'"
            ],
            "application/vnd.google.colaboratory.intrinsic+json": {
              "type": "string"
            }
          },
          "metadata": {},
          "execution_count": 7
        }
      ],
      "source": [
        "urlt = sample[\"path\"]\n",
        "\n",
        "urlt"
      ]
    },
    {
      "cell_type": "code",
      "source": [
        "urli = \"https://jakartamrt.co.id/\"\n",
        "\n",
        "url = urli + urlt\n",
        "\n",
        "url"
      ],
      "metadata": {
        "id": "6QievPDW-eGu",
        "outputId": "8611447f-d3ef-40a5-d8b1-bc99fc02aeea",
        "colab": {
          "base_uri": "https://localhost:8080/",
          "height": 35
        }
      },
      "execution_count": null,
      "outputs": [
        {
          "output_type": "execute_result",
          "data": {
            "text/plain": [
              "'https://jakartamrt.co.id//id/stasiun/stasiun-asean'"
            ],
            "application/vnd.google.colaboratory.intrinsic+json": {
              "type": "string"
            }
          },
          "metadata": {},
          "execution_count": 8
        }
      ]
    },
    {
      "cell_type": "code",
      "source": [
        "antir = sample[\"antarmodas\"]\n",
        "\n",
        "antir"
      ],
      "metadata": {
        "id": "tuw3_KBX_HOz",
        "outputId": "b0ba48ff-ce55-4301-bb25-72ece0dc66a6",
        "colab": {
          "base_uri": "https://localhost:8080/",
          "height": 35
        }
      },
      "execution_count": null,
      "outputs": [
        {
          "output_type": "execute_result",
          "data": {
            "text/plain": [
              "'Kopaja\\r\\nS13\\r\\n\\r\\nMayasari Bakti\\r\\nC300'"
            ],
            "application/vnd.google.colaboratory.intrinsic+json": {
              "type": "string"
            }
          },
          "metadata": {},
          "execution_count": 9
        }
      ]
    },
    {
      "cell_type": "code",
      "source": [
        "split = \"\\r\\n\\r\\n\"\n",
        "\n",
        "antir = antir.split(split)\n",
        "\n",
        "antir"
      ],
      "metadata": {
        "id": "5KhvjV8x_Yet",
        "outputId": "53cd63a1-913c-4fc2-db7e-4d7974f4c297",
        "colab": {
          "base_uri": "https://localhost:8080/"
        }
      },
      "execution_count": null,
      "outputs": [
        {
          "output_type": "execute_result",
          "data": {
            "text/plain": [
              "['Kopaja\\r\\nS13', 'Mayasari Bakti\\r\\nC300']"
            ]
          },
          "metadata": {},
          "execution_count": 10
        }
      ]
    },
    {
      "cell_type": "code",
      "source": [
        "replat = \"\\r\\n\"; spal = \" \"\n",
        "\n",
        "antar = [ant.replace(replat, spal) for ant in antir]\n",
        "\n",
        "antar"
      ],
      "metadata": {
        "id": "nbtGRGXW_iG6",
        "outputId": "cf85411b-6cbc-4fa2-fe7f-edac5420d6f7",
        "colab": {
          "base_uri": "https://localhost:8080/"
        }
      },
      "execution_count": null,
      "outputs": [
        {
          "output_type": "execute_result",
          "data": {
            "text/plain": [
              "['Kopaja S13', 'Mayasari Bakti C300']"
            ]
          },
          "metadata": {},
          "execution_count": 11
        }
      ]
    },
    {
      "cell_type": "code",
      "source": [
        "jadnor = sample[\"jadwal_lb_biasa\"]\n",
        "\n",
        "jadnor = [i.strip() for i in jadnor.split(\",\")]\n",
        "\n",
        "jadnor[:5]"
      ],
      "metadata": {
        "id": "pM1WzONp_5vy",
        "outputId": "532eb7b7-b4e8-4a78-9ca6-cc27d91ff165",
        "colab": {
          "base_uri": "https://localhost:8080/"
        }
      },
      "execution_count": null,
      "outputs": [
        {
          "output_type": "execute_result",
          "data": {
            "text/plain": [
              "['05:19', '05:34', '05:46', '05:58', '06:10']"
            ]
          },
          "metadata": {},
          "execution_count": 12
        }
      ]
    },
    {
      "cell_type": "code",
      "source": [
        "jadoff = sample[\"jadwal_lb_libur\"]\n",
        "\n",
        "jadoff = [i.strip() for i in jadoff.split(\",\")]\n",
        "\n",
        "jadoff[:5]"
      ],
      "metadata": {
        "id": "2fVnbd80_8oq",
        "outputId": "0a7cb4d6-6aa2-400f-c494-96c8aee38f5a",
        "colab": {
          "base_uri": "https://localhost:8080/"
        }
      },
      "execution_count": null,
      "outputs": [
        {
          "output_type": "execute_result",
          "data": {
            "text/plain": [
              "['05:19', '05:34', '05:46', '05:58', '06:10']"
            ]
          },
          "metadata": {},
          "execution_count": 13
        }
      ]
    },
    {
      "cell_type": "code",
      "source": [
        "selisih = len(jadnor) - len(jadoff)\n",
        "\n",
        "selisih"
      ],
      "metadata": {
        "id": "pzIEtxiAAA4M",
        "outputId": "873771c7-dccb-4b74-a3b2-7d5eff6e8732",
        "colab": {
          "base_uri": "https://localhost:8080/"
        }
      },
      "execution_count": null,
      "outputs": [
        {
          "output_type": "execute_result",
          "data": {
            "text/plain": [
              "33"
            ]
          },
          "metadata": {},
          "execution_count": 14
        }
      ]
    },
    {
      "cell_type": "code",
      "source": [
        "jadnor = sample[\"jadwal_hi_biasa\"]\n",
        "\n",
        "jadnor = [i.strip() for i in jadnor.split(\",\")]\n",
        "\n",
        "jadnor[:5]"
      ],
      "metadata": {
        "id": "Xm5F6McYAE8M",
        "outputId": "3c37c259-7d86-4b5d-da7d-7f0bcc08a91d",
        "colab": {
          "base_uri": "https://localhost:8080/"
        }
      },
      "execution_count": null,
      "outputs": [
        {
          "output_type": "execute_result",
          "data": {
            "text/plain": [
              "['05:02', '05:15', '05:27', '05:39', '05:51']"
            ]
          },
          "metadata": {},
          "execution_count": 15
        }
      ]
    },
    {
      "cell_type": "code",
      "source": [
        "jadoff = sample[\"jadwal_hi_libur\"]\n",
        "\n",
        "jadoff = [i.strip() for i in jadoff.split(\",\")]\n",
        "\n",
        "jadoff[:5]"
      ],
      "metadata": {
        "id": "HF2edChfAG-2",
        "outputId": "1cd61a5f-243d-433f-ec0e-1bba61e0fc91",
        "colab": {
          "base_uri": "https://localhost:8080/"
        }
      },
      "execution_count": null,
      "outputs": [
        {
          "output_type": "execute_result",
          "data": {
            "text/plain": [
              "['05:02', '05:14', '05:26', '05:38', '05:50']"
            ]
          },
          "metadata": {},
          "execution_count": 16
        }
      ]
    },
    {
      "cell_type": "code",
      "source": [
        "selisih = len(jadnor) - len(jadoff)\n",
        "\n",
        "selisih"
      ],
      "metadata": {
        "id": "F3X_z2vEAI4W",
        "outputId": "383eacc5-060b-4048-ab17-8727944f7bb5",
        "colab": {
          "base_uri": "https://localhost:8080/"
        }
      },
      "execution_count": null,
      "outputs": [
        {
          "output_type": "execute_result",
          "data": {
            "text/plain": [
              "34"
            ]
          },
          "metadata": {},
          "execution_count": 17
        }
      ]
    },
    {
      "cell_type": "code",
      "source": [
        "retail = sample[\"retails\"]\n",
        "\n",
        "type(retail)"
      ],
      "metadata": {
        "id": "LyusgFYbAKwn",
        "outputId": "b995e60e-a8ce-4ba5-9378-3bd31f03b7f7",
        "colab": {
          "base_uri": "https://localhost:8080/"
        }
      },
      "execution_count": null,
      "outputs": [
        {
          "output_type": "execute_result",
          "data": {
            "text/plain": [
              "list"
            ]
          },
          "metadata": {},
          "execution_count": 18
        }
      ]
    },
    {
      "cell_type": "code",
      "source": [
        "retail"
      ],
      "metadata": {
        "id": "78wwbQ4hA9hE",
        "outputId": "516654cc-9b50-4f83-abe1-5e18f4d82ff9",
        "colab": {
          "base_uri": "https://localhost:8080/"
        }
      },
      "execution_count": null,
      "outputs": [
        {
          "output_type": "execute_result",
          "data": {
            "text/plain": [
              "[{'nid': '1222',\n",
              "  'title': 'di.bawahtangga',\n",
              "  'jenis_retail': 'retail ',\n",
              "  'cover': 'https://jakartamrt.co.id/sites/default/files/2023-09/6CCB4D18-9DB6-4F4E-A287-D179DEE9F313_1_201_a.jpeg',\n",
              "  'path': '/id/retail/dibawahtangga'}]"
            ]
          },
          "metadata": {},
          "execution_count": 19
        }
      ]
    },
    {
      "cell_type": "code",
      "source": [
        "support = sample[\"fasilitas\"]\n",
        "\n",
        "support[0]"
      ],
      "metadata": {
        "id": "3nP-tX-WA-t1",
        "outputId": "5cdd6082-3d1e-4b7c-c730-84e6c818a92e",
        "colab": {
          "base_uri": "https://localhost:8080/"
        }
      },
      "execution_count": null,
      "outputs": [
        {
          "output_type": "execute_result",
          "data": {
            "text/plain": [
              "{'nid': '274',\n",
              " 'title': 'Sare Hotel',\n",
              " 'jenis_fasilitas': 'Penginapan',\n",
              " 'cover': 'https://jakartamrt.co.id/sites/default/files/2020-10/sare-hotel.jpg',\n",
              " 'path': '/id/fasilitas/sare-hotel'}"
            ]
          },
          "metadata": {},
          "execution_count": 20
        }
      ]
    },
    {
      "cell_type": "code",
      "source": [
        "perjalanan = sample[\"estimasi\"]\n",
        "\n",
        "type(perjalanan)"
      ],
      "metadata": {
        "id": "ryH8GiikASQr",
        "outputId": "f580051d-bf94-4f30-f9c4-569094496970",
        "colab": {
          "base_uri": "https://localhost:8080/"
        }
      },
      "execution_count": null,
      "outputs": [
        {
          "output_type": "execute_result",
          "data": {
            "text/plain": [
              "list"
            ]
          },
          "metadata": {},
          "execution_count": 21
        }
      ]
    },
    {
      "cell_type": "code",
      "source": [
        "perjalanan[:5]"
      ],
      "metadata": {
        "id": "3REhXN-dAUVL",
        "outputId": "5cd1ce69-0b0e-4643-ce33-385831ab4126",
        "colab": {
          "base_uri": "https://localhost:8080/"
        }
      },
      "execution_count": null,
      "outputs": [
        {
          "output_type": "execute_result",
          "data": {
            "text/plain": [
              "[{'stasiun_nid': '20', 'tarif': '9000', 'waktu': '15'},\n",
              " {'stasiun_nid': '21', 'tarif': '7000', 'waktu': '12'},\n",
              " {'stasiun_nid': '29', 'tarif': '6000', 'waktu': '9'},\n",
              " {'stasiun_nid': '30', 'tarif': '5000', 'waktu': '7'},\n",
              " {'stasiun_nid': '31', 'tarif': '4000', 'waktu': '5'}]"
            ]
          },
          "metadata": {},
          "execution_count": 22
        }
      ]
    },
    {
      "cell_type": "markdown",
      "source": [
        "### ```General```"
      ],
      "metadata": {
        "id": "lIkAvzZuCcQb"
      }
    },
    {
      "cell_type": "code",
      "source": [
        "timer = []\n",
        "\n",
        "tarif = []\n",
        "\n",
        "for i in range(total):\n",
        "\n",
        "  sample = data[i]\n",
        "\n",
        "  perjalanan = sample[\"estimasi\"]\n",
        "\n",
        "  for jalan in perjalanan:\n",
        "\n",
        "    j, t = int(jalan[\"waktu\"]), int(jalan[\"tarif\"])\n",
        "\n",
        "    if j not in timer: timer.append(j)\n",
        "\n",
        "    if t not in tarif: tarif.append(t)"
      ],
      "metadata": {
        "id": "MeCCuHgnCeBu"
      },
      "execution_count": null,
      "outputs": []
    },
    {
      "cell_type": "code",
      "source": [
        "perjalanan_termurah = min(tarif)\n",
        "\n",
        "perjalanan_termurah"
      ],
      "metadata": {
        "id": "iuLPebnYCf1C",
        "outputId": "5a9fd936-8aca-4ba4-fdc0-2e6aa2127b71",
        "colab": {
          "base_uri": "https://localhost:8080/"
        }
      },
      "execution_count": null,
      "outputs": [
        {
          "output_type": "execute_result",
          "data": {
            "text/plain": [
              "3000"
            ]
          },
          "metadata": {},
          "execution_count": 24
        }
      ]
    },
    {
      "cell_type": "markdown",
      "source": [
        "🚀 ```Tarif Murah : Rp. 3000```"
      ],
      "metadata": {
        "id": "-Zxh4gzBItsm"
      }
    },
    {
      "cell_type": "code",
      "source": [
        "perjalanan_termahal = max(tarif)\n",
        "\n",
        "perjalanan_termahal"
      ],
      "metadata": {
        "id": "7Boz_EDFCnR4",
        "outputId": "61836f4a-9109-460c-a88f-4f3c6742c920",
        "colab": {
          "base_uri": "https://localhost:8080/"
        }
      },
      "execution_count": null,
      "outputs": [
        {
          "output_type": "execute_result",
          "data": {
            "text/plain": [
              "14000"
            ]
          },
          "metadata": {},
          "execution_count": 25
        }
      ]
    },
    {
      "cell_type": "markdown",
      "source": [
        "🚀 ```Tarif Mahal : Rp. 14.000```"
      ],
      "metadata": {
        "id": "lkHsypbkIzQb"
      }
    },
    {
      "cell_type": "code",
      "source": [
        "perjalanan_tercepat = min(timer)\n",
        "\n",
        "perjalanan_tercepat"
      ],
      "metadata": {
        "id": "kfWpQKNECpZ3",
        "outputId": "6be4b0b6-169f-4899-bf16-c8c1975a5fd2",
        "colab": {
          "base_uri": "https://localhost:8080/"
        }
      },
      "execution_count": null,
      "outputs": [
        {
          "output_type": "execute_result",
          "data": {
            "text/plain": [
              "2"
            ]
          },
          "metadata": {},
          "execution_count": 26
        }
      ]
    },
    {
      "cell_type": "markdown",
      "source": [
        "🚀 ```Perjalanan Trip Tersingkat : 2 Menit```"
      ],
      "metadata": {
        "id": "0a0XvAgyI3ow"
      }
    },
    {
      "cell_type": "code",
      "source": [
        "perjalanan_terlama = max(timer)\n",
        "\n",
        "perjalanan_terlama"
      ],
      "metadata": {
        "id": "JS3WK2zeCrPo",
        "outputId": "37d6ba97-d9ad-412c-96e9-cb38d0321f09",
        "colab": {
          "base_uri": "https://localhost:8080/"
        }
      },
      "execution_count": null,
      "outputs": [
        {
          "output_type": "execute_result",
          "data": {
            "text/plain": [
              "29"
            ]
          },
          "metadata": {},
          "execution_count": 27
        }
      ]
    },
    {
      "cell_type": "markdown",
      "source": [
        "🚀 ```Perjalanan Trip Terlama : 29 Menit```"
      ],
      "metadata": {
        "id": "qPLC2tkjJCeM"
      }
    },
    {
      "cell_type": "code",
      "source": [
        "support = {\"Coworking Space\":0, \"Penginapan\":0, \"Restoran\":0}\n",
        "\n",
        "for i in range(total):\n",
        "\n",
        "  sample = data[i]\n",
        "\n",
        "  supporting = sample[\"fasilitas\"]\n",
        "\n",
        "  for sup in supporting:\n",
        "\n",
        "    jenis = sup[\"jenis_fasilitas\"]\n",
        "\n",
        "    jenis = [t.capitalize() for t in jenis.strip().split(\" \")]\n",
        "\n",
        "    jenis = \" \".join(jenis)\n",
        "\n",
        "    support[jenis] += 1\n",
        "\n",
        "support"
      ],
      "metadata": {
        "id": "Eocc2sHBCwet",
        "outputId": "dad04816-69f0-4ef2-805b-0caa131071ca",
        "colab": {
          "base_uri": "https://localhost:8080/"
        }
      },
      "execution_count": 5,
      "outputs": [
        {
          "output_type": "execute_result",
          "data": {
            "text/plain": [
              "{'Coworking Space': 6, 'Penginapan': 27, 'Restoran': 37}"
            ]
          },
          "metadata": {},
          "execution_count": 5
        }
      ]
    },
    {
      "cell_type": "code",
      "source": [
        "from IPython.display import HTML, display\n",
        "\n",
        "display(HTML(\"\"\"\n",
        "<style>\n",
        "#output-body {\n",
        "    /* display: flex; */\n",
        "    /* align-items: center; */\n",
        "    /* justify-content: center; */\n",
        "    padding-left: 100px\n",
        "}\n",
        "</style>\n",
        "\"\"\"))\n",
        "\n",
        "fig, ax = plt.subplots(figsize=(10, 5))\n",
        "\n",
        "ax.bar(support.keys(), support.values())\n",
        "\n",
        "ax.set_title(\"Total Fasilitas Seluruh Statiun\")\n",
        "\n",
        "ax.set_xlabel(\"Fasilitas\")\n",
        "\n",
        "ax.set_ylabel(\"Total\")\n",
        "\n",
        "ax.bar_label(ax.containers[0]);"
      ],
      "metadata": {
        "id": "D2JPace9Dutb",
        "outputId": "0759df91-df3d-41ff-fe04-2856ce6ad8bc",
        "colab": {
          "base_uri": "https://localhost:8080/",
          "height": 480
        }
      },
      "execution_count": 7,
      "outputs": [
        {
          "output_type": "display_data",
          "data": {
            "text/plain": [
              "<IPython.core.display.HTML object>"
            ],
            "text/html": [
              "\n",
              "<style>\n",
              "#output-body {\n",
              "    /* display: flex; */\n",
              "    /* align-items: center; */\n",
              "    /* justify-content: center; */\n",
              "    padding-left: 100px\n",
              "}\n",
              "</style>\n"
            ]
          },
          "metadata": {}
        },
        {
          "output_type": "display_data",
          "data": {
            "text/plain": [
              "<Figure size 1000x500 with 1 Axes>"
            ],
            "image/png": "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\n"
          },
          "metadata": {
            "image/png": {
            "width": 640,
            "height": 480,
            },
          }
        }
      ]
    },
    {
      "cell_type": "code",
      "source": [
        "total_support = sum(support.values())\n",
        "\n",
        "total_support"
      ],
      "metadata": {
        "id": "SWIdPyXxD5bq",
        "outputId": "e0d31c4e-7ebd-4c7f-e470-69bc4e098488",
        "colab": {
          "base_uri": "https://localhost:8080/"
        }
      },
      "execution_count": null,
      "outputs": [
        {
          "output_type": "execute_result",
          "data": {
            "text/plain": [
              "70"
            ]
          },
          "metadata": {},
          "execution_count": 30
        }
      ]
    },
    {
      "cell_type": "markdown",
      "source": [
        "🚀 ```Total Fasilitas Seluruh Statiun : 70```"
      ],
      "metadata": {
        "id": "JxnxFe4OJHct"
      }
    },
    {
      "cell_type": "code",
      "source": [
        "jadtelp = lambda sample : [] if not sample else [i.strip() for i in sample.split(\",\")]\n",
        "\n",
        "rata = lambda sample : sum(sample) // len(sample)"
      ],
      "metadata": {
        "id": "2L4GtezhE4jK"
      },
      "execution_count": null,
      "outputs": []
    },
    {
      "cell_type": "code",
      "source": [
        "perjalanan = {\"biasa\":[], \"libur\":[]}\n",
        "\n",
        "for i in range(total):\n",
        "\n",
        "  sample = data[i]\n",
        "\n",
        "  biasa = sample[\"jadwal_hi_biasa\"]\n",
        "\n",
        "  biasa = len(jadtelp(biasa))\n",
        "\n",
        "  libur = sample[\"jadwal_hi_libur\"]\n",
        "\n",
        "  libur = len(jadtelp(libur))\n",
        "\n",
        "  perjalanan[\"biasa\"].append(biasa)\n",
        "\n",
        "  perjalanan[\"libur\"].append(libur)"
      ],
      "metadata": {
        "id": "fAyMR69bEjYa"
      },
      "execution_count": null,
      "outputs": []
    },
    {
      "cell_type": "code",
      "source": [
        "rata_rata_libur = rata(perjalanan[\"libur\"])\n",
        "\n",
        "rata_rata_biasa = rata(perjalanan[\"biasa\"])\n",
        "\n",
        "selisih = rata_rata_biasa - rata_rata_libur\n",
        "\n",
        "selisih"
      ],
      "metadata": {
        "id": "rILrQkTWFW_Z",
        "outputId": "caab000a-7179-4f6e-d52a-50162392331c",
        "colab": {
          "base_uri": "https://localhost:8080/"
        }
      },
      "execution_count": null,
      "outputs": [
        {
          "output_type": "execute_result",
          "data": {
            "text/plain": [
              "31"
            ]
          },
          "metadata": {},
          "execution_count": 33
        }
      ]
    },
    {
      "cell_type": "code",
      "source": [
        "perjalanan = {\"biasa\":[], \"libur\":[]}\n",
        "\n",
        "for i in range(total):\n",
        "\n",
        "  sample = data[i]\n",
        "\n",
        "  biasa = sample[\"jadwal_lb_biasa\"]\n",
        "\n",
        "  biasa = len(jadtelp(biasa))\n",
        "\n",
        "  libur = sample[\"jadwal_lb_libur\"]\n",
        "\n",
        "  libur = len(jadtelp(libur))\n",
        "\n",
        "  perjalanan[\"biasa\"].append(biasa)\n",
        "\n",
        "  perjalanan[\"libur\"].append(libur)"
      ],
      "metadata": {
        "id": "9YQVY3TJF_mb"
      },
      "execution_count": null,
      "outputs": []
    },
    {
      "cell_type": "code",
      "source": [
        "rata_rata_libur = rata(perjalanan[\"libur\"])\n",
        "\n",
        "rata_rata_biasa = rata(perjalanan[\"biasa\"])\n",
        "\n",
        "selisih = rata_rata_biasa - rata_rata_libur\n",
        "\n",
        "selisih"
      ],
      "metadata": {
        "id": "I87LSBjbGDI5",
        "outputId": "82d0fbf2-5b53-4984-9cd1-4d39bbcbadd9",
        "colab": {
          "base_uri": "https://localhost:8080/"
        }
      },
      "execution_count": null,
      "outputs": [
        {
          "output_type": "execute_result",
          "data": {
            "text/plain": [
              "30"
            ]
          },
          "metadata": {},
          "execution_count": 35
        }
      ]
    },
    {
      "cell_type": "markdown",
      "source": [
        "🚀 ```Selisih Rata Rata Total Perjalanan Hari Libur dan Hari Biasa : 30```"
      ],
      "metadata": {
        "id": "ls8GIZFQJO5M"
      }
    },
    {
      "cell_type": "code",
      "source": [
        "reta = []\n",
        "\n",
        "for i in range(total):\n",
        "\n",
        "  sample = data[i]\n",
        "\n",
        "  retail = sample[\"retails\"]\n",
        "\n",
        "  for ret in retail:\n",
        "\n",
        "    jenis = ret[\"jenis_retail\"]\n",
        "\n",
        "    if not jenis: jenis = \"Unclass\"\n",
        "\n",
        "    jenis = [i.capitalize() for i in jenis.strip().split(\" \")]\n",
        "\n",
        "    jenis = \" \".join(jenis)\n",
        "\n",
        "    if jenis == \"Fesyen\": jenis = \"Fashion\"\n",
        "\n",
        "    if jenis not in reta: reta.append(jenis)"
      ],
      "metadata": {
        "id": "kl5nCv6oHG-a"
      },
      "execution_count": null,
      "outputs": []
    },
    {
      "cell_type": "code",
      "source": [
        "retailer = {ret:0 for ret in reta}\n",
        "\n",
        "for i in range(total):\n",
        "\n",
        "  sample = data[i]\n",
        "\n",
        "  retail = sample[\"retails\"]\n",
        "\n",
        "  for ret in retail:\n",
        "\n",
        "    jenis = ret[\"jenis_retail\"]\n",
        "\n",
        "    if not jenis: jenis = \"Unclass\"\n",
        "\n",
        "    jenis = [i.capitalize() for i in jenis.strip().split(\" \")]\n",
        "\n",
        "    jenis = \" \".join(jenis)\n",
        "\n",
        "    if jenis == \"Fesyen\": jenis = \"Fashion\"\n",
        "\n",
        "    retailer[jenis] +=  1"
      ],
      "metadata": {
        "id": "2cW8WjtgHSX_"
      },
      "execution_count": null,
      "outputs": []
    },
    {
      "cell_type": "code",
      "source": [
        "toretail = sum(retailer.values())\n",
        "\n",
        "toretail"
      ],
      "metadata": {
        "id": "Hwf0I6JkHexw",
        "outputId": "7fa8e80c-75bb-4770-f5e2-c65b302974ee",
        "colab": {
          "base_uri": "https://localhost:8080/"
        }
      },
      "execution_count": null,
      "outputs": [
        {
          "output_type": "execute_result",
          "data": {
            "text/plain": [
              "73"
            ]
          },
          "metadata": {},
          "execution_count": 38
        }
      ]
    },
    {
      "cell_type": "code",
      "source": [
        "fig, ax = plt.subplots(figsize=(10, 5))\n",
        "\n",
        "ax.bar(retailer.keys(), retailer.values())\n",
        "\n",
        "ax.set_title(\"Total Retail Seluruh Statiun\")\n",
        "\n",
        "ax.set_xlabel(\"Retail\")\n",
        "\n",
        "ax.set_ylabel(\"Total\")\n",
        "\n",
        "ax.bar_label(ax.containers[0]);"
      ],
      "metadata": {
        "id": "-Oeo4JJAJmpu"
      },
      "execution_count": null,
      "outputs": []
    },
    {
      "cell_type": "markdown",
      "source": [
        "🚀 ```Total Retail Seluruh Statiun : 73```"
      ],
      "metadata": {
        "id": "yAlGxrjNJdsR"
      }
    }
  ],
  "metadata": {
    "colab": {
      "provenance": []
    },
    "kernelspec": {
      "display_name": "Python 3 (ipykernel)",
      "language": "python",
      "name": "python3"
    },
    "language_info": {
      "codemirror_mode": {
        "name": "ipython",
        "version": 3
      },
      "file_extension": ".py",
      "mimetype": "text/x-python",
      "name": "python",
      "nbconvert_exporter": "python",
      "pygments_lexer": "ipython3",
      "version": "3.9.13"
    }
  },
  "nbformat": 4,
  "nbformat_minor": 0
}
